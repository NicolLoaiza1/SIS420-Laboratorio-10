{
  "nbformat": 4,
  "nbformat_minor": 0,
  "metadata": {
    "colab": {
      "provenance": [],
      "authorship_tag": "ABX9TyP6X4s2O6+c+vQ/9mWynACF",
      "include_colab_link": true
    },
    "kernelspec": {
      "name": "python3",
      "display_name": "Python 3"
    },
    "language_info": {
      "name": "python"
    }
  },
  "cells": [
    {
      "cell_type": "markdown",
      "metadata": {
        "id": "view-in-github",
        "colab_type": "text"
      },
      "source": [
        "<a href=\"https://colab.research.google.com/github/NicolLoaiza1/SIS420-Laboratorio-10/blob/main/Laboratorio_10_Loaiza_Alvarez_Nicol_Noelia.ipynb\" target=\"_parent\"><img src=\"https://colab.research.google.com/assets/colab-badge.svg\" alt=\"Open In Colab\"/></a>"
      ]
    },
    {
      "cell_type": "code",
      "execution_count": 72,
      "metadata": {
        "id": "gaog0cVmLC_F"
      },
      "outputs": [],
      "source": [
        "# Loaiza Alvarez Nicol Noelia"
      ]
    },
    {
      "cell_type": "code",
      "source": [
        "import numpy as np\n",
        "import pandas as pd\n",
        "from matplotlib import pyplot\n",
        "from mpl_toolkits.mplot3d import Axes3D\n",
        "from scipy import optimize\n",
        "%matplotlib inline"
      ],
      "metadata": {
        "id": "BYjcQufUV2tK"
      },
      "execution_count": 73,
      "outputs": []
    },
    {
      "cell_type": "code",
      "source": [
        "from google.colab import drive\n",
        "drive.mount(\"/content/drive\")"
      ],
      "metadata": {
        "colab": {
          "base_uri": "https://localhost:8080/"
        },
        "id": "iIasdFXXLD6N",
        "outputId": "675ada73-9edb-4617-d8d6-27ca51b78c6d"
      },
      "execution_count": 74,
      "outputs": [
        {
          "output_type": "stream",
          "name": "stdout",
          "text": [
            "Drive already mounted at /content/drive; to attempt to forcibly remount, call drive.mount(\"/content/drive\", force_remount=True).\n"
          ]
        }
      ]
    },
    {
      "cell_type": "code",
      "source": [
        "data = pd.read_csv(\"/content/drive/MyDrive/SIS 420 Dataset/Regresion Logistica Dataset.csv\", delimiter=',')\n",
        "data = np.array(data)\n",
        "x = data[:, 0:18]\n",
        "y = data[:,19]\n",
        "print(x)\n",
        "print('-'*45)\n",
        "print(y)"
      ],
      "metadata": {
        "id": "Zf8HiTifLGgm",
        "colab": {
          "base_uri": "https://localhost:8080/"
        },
        "outputId": "44386cee-ee14-4028-90dd-9b8013b678bd"
      },
      "execution_count": 75,
      "outputs": [
        {
          "output_type": "stream",
          "name": "stdout",
          "text": [
            "[[2.000e+03 7.000e+00 0.000e+00 ... 0.000e+00 0.000e+00 0.000e+00]\n",
            " [2.001e+03 1.170e+01 1.000e+00 ... 0.000e+00 0.000e+00 0.000e+00]\n",
            " [2.002e+03 5.600e+00 1.000e+00 ... 1.000e+00 0.000e+00 0.000e+00]\n",
            " ...\n",
            " [3.285e+03 4.600e+00 1.000e+00 ... 0.000e+00 1.000e+00 1.000e+00]\n",
            " [3.286e+03 3.400e+00 0.000e+00 ... 0.000e+00 0.000e+00 1.000e+00]\n",
            " [3.289e+03 6.000e+00 0.000e+00 ... 0.000e+00 0.000e+00 0.000e+00]]\n",
            "---------------------------------------------\n",
            "[0. 0. 0. 0. 0. 0. 0. 0. 0. 0. 0. 0. 0. 0. 0. 0. 0. 1. 0. 0. 0. 0. 0. 0.\n",
            " 0. 0. 0. 0. 0. 1. 0. 0. 1. 0. 0. 0. 0. 0. 0. 0. 0. 0. 0. 0. 0. 0. 0. 0.\n",
            " 0. 0. 0. 0. 0. 1. 0. 0. 0. 1. 0. 0. 0. 0. 0. 0. 0. 1. 1. 1. 0. 0. 0. 0.\n",
            " 0. 1. 0. 0. 0. 0. 0. 0. 0. 0. 0. 0. 0. 0. 0. 0. 0. 1. 0. 0. 0. 0. 0. 0.\n",
            " 0. 0. 1. 0. 0. 0. 0. 1. 0. 0. 0. 0. 0. 0. 0. 0. 0. 0. 0. 0. 0. 0. 0. 0.\n",
            " 0. 0. 0. 0. 0. 0. 0. 0. 0. 0. 0. 0. 0. 0. 0. 0. 0. 0. 0. 0. 0. 0. 0. 0.\n",
            " 1. 0. 0. 0. 0. 0. 0. 0. 0. 0. 0. 0. 0. 0. 0. 0. 0. 0. 0. 0. 0. 0. 0. 0.\n",
            " 0. 1. 0. 0. 0. 0. 0. 0. 0. 0. 0. 0. 0. 0. 0. 0. 0. 0. 0. 0. 0. 1. 0. 0.\n",
            " 0. 0. 0. 0. 0. 0. 1. 0. 0. 0. 0. 0. 0. 1. 0. 1. 0. 0. 1. 1. 0. 0. 0. 0.\n",
            " 0. 0. 0. 0. 0. 0. 0. 0. 0. 0. 0. 0. 0. 0. 0. 0. 0. 0. 0. 0. 0. 0. 0. 0.\n",
            " 0. 0. 0. 0. 0. 0. 0. 0. 0. 0. 0. 0. 0. 0. 0. 0. 0. 0. 0. 1. 0. 0. 0. 0.\n",
            " 0. 0. 0. 0. 0. 0. 0. 0. 0. 0. 0. 0. 0. 1. 1. 0. 0. 0. 0. 0. 0. 0. 0. 0.\n",
            " 0. 1. 0. 0. 0. 1. 0. 1. 1. 1. 0. 1. 0. 1. 0. 0. 1. 1. 1. 1. 1. 0. 0. 1.\n",
            " 0. 0. 0. 0. 0. 1. 0. 0. 0. 0. 0. 0. 0. 1. 0. 0. 0. 0. 0. 0. 0. 0. 0. 0.\n",
            " 0. 0. 1. 0. 1. 0. 0. 0. 0. 0. 0. 0. 0. 0. 0. 0. 0. 0. 0. 0. 0. 0. 0. 0.\n",
            " 0. 0. 0. 0. 0. 0. 0. 0. 0. 0. 0. 0. 0. 0. 0. 0. 0. 0. 0. 0. 0. 0. 0. 0.\n",
            " 0. 0. 0. 0. 0. 0. 1. 0. 0. 0. 0. 0. 0. 0. 0. 0. 0. 0. 0. 0. 0. 0. 0. 0.\n",
            " 1. 1. 0. 1. 1. 0. 0. 0. 1. 0. 0. 0. 0. 0. 1. 0. 0. 0. 0. 0. 0. 0. 0. 1.\n",
            " 0. 0. 1. 0. 0. 0. 0. 0. 0. 0. 0. 0. 0. 0. 0. 0. 0. 1. 0. 0. 1. 1. 0. 0.\n",
            " 0. 0. 0. 1. 1. 0. 0. 0. 0. 1. 0. 0. 0. 0. 0. 0. 0. 1. 1. 0. 0. 0. 0. 1.\n",
            " 1. 0. 0. 0. 1. 0. 0. 0. 1. 0. 0. 0. 1. 0. 0. 0. 0. 0. 0. 1. 0. 0. 0. 0.\n",
            " 0. 1. 0. 0. 0. 0. 0. 0. 1. 0. 0. 0. 0. 0. 0. 1. 0. 0. 0. 0. 0. 0. 1. 0.\n",
            " 0. 0. 0. 0. 1. 0. 0. 0. 0. 1. 0. 0. 0. 0. 0. 0. 0. 0. 0. 0. 0. 0. 0. 0.\n",
            " 0. 0. 0. 1. 0. 0. 0. 0. 0. 0. 0. 0. 0. 0. 0. 0. 1. 0. 0. 0. 0. 0. 0. 0.\n",
            " 0. 0. 0. 0. 0. 0. 0. 0. 0. 0. 0. 0. 0. 0. 0. 0. 0. 0. 0. 0. 0. 0. 0. 0.\n",
            " 0. 0. 0. 0. 0. 0. 0. 0. 1. 0. 0. 0. 0. 0. 0. 1. 1. 0. 0. 1. 0. 0. 0. 0.\n",
            " 0. 0. 0. 0. 0. 0. 0. 0. 0. 0. 0. 0. 0. 0. 1. 0. 0. 0. 0. 0. 0. 0. 0. 0.\n",
            " 0. 0. 0. 0. 1. 0. 0. 0. 0. 0. 0. 0. 0. 1. 0. 0. 0. 0. 0. 0. 0. 0. 0. 0.\n",
            " 0. 0. 1. 0.]\n"
          ]
        }
      ]
    },
    {
      "cell_type": "code",
      "source": [
        "x = np.array(x)\n",
        "y = np.array(y)\n",
        "n_ejemplos = y.size"
      ],
      "metadata": {
        "id": "gAwHrCpoLGol"
      },
      "execution_count": 76,
      "outputs": []
    },
    {
      "cell_type": "code",
      "source": [
        "def plotData(x, y):\n",
        "    # Grafica los puntos de datos x y y en una nueva figura. Grafica los puntos de datos con * para los positivos y \n",
        "    # o para los negativos.\n",
        "    fig = pyplot.figure()\n",
        "    pos = y == 1\n",
        "    neg = y == 0\n",
        "    pyplot.plot(x[pos, 0], x[pos, 1], 'k*', lw=2, ms=10)\n",
        "    pyplot.plot(x[neg, 0], x[neg, 1], 'ko', mfc='y', ms=8, mec='k', mew=1)"
      ],
      "metadata": {
        "id": "ztbKpbkOVQiP"
      },
      "execution_count": 77,
      "outputs": []
    },
    {
      "cell_type": "code",
      "source": [
        "plotData(x, y)\n",
        "pyplot.xlabel('Calificación Niños 1')\n",
        "pyplot.ylabel('Calificación Niños 2')\n",
        "pyplot.legend(['Positivo', 'Negativo'])\n",
        "pass"
      ],
      "metadata": {
        "colab": {
          "base_uri": "https://localhost:8080/",
          "height": 279
        },
        "id": "7nmQpGqHVTls",
        "outputId": "2f9177f5-b8a6-49a3-d619-40e7262b3d81"
      },
      "execution_count": 78,
      "outputs": [
        {
          "output_type": "display_data",
          "data": {
            "text/plain": [
              "<Figure size 432x288 with 1 Axes>"
            ],
            "image/png": "[encoded data removed]"
          },
          "metadata": {
            "needs_background": "light"
          }
        }
      ]
    },
    {
      "cell_type": "code",
      "source": [
        "def funcionSigmoidea(z):\n",
        "  z = np.array(z)\n",
        "  g = 1/(1+np.exp(-z))\n",
        "  return g"
      ],
      "metadata": {
        "id": "Yl8s1PJLLGr0"
      },
      "execution_count": 79,
      "outputs": []
    },
    {
      "cell_type": "code",
      "source": [
        "x = np.concatenate((np.ones((n_ejemplos,1)),x),axis=1)"
      ],
      "metadata": {
        "id": "y4SHwXbLLGut"
      },
      "execution_count": 80,
      "outputs": []
    },
    {
      "cell_type": "code",
      "source": [
        "def calcularCosto(theta, x, y):\n",
        "  h = funcionSigmoidea(x.dot(theta.T))\n",
        "  J = (1/n_ejemplos)*np.sum(-y.dot(np.log(h))-(1-y).dot(np.log(1-h)))\n",
        "  return J"
      ],
      "metadata": {
        "id": "xRGYiXy0LGyi"
      },
      "execution_count": 81,
      "outputs": []
    },
    {
      "cell_type": "code",
      "source": [
        "def descensoGradiente(x, y, theta, alpha, n_iteraciones):\n",
        "  historial_J = []\n",
        "  theta = theta.copy()\n",
        "  for i in range (n_iteraciones):\n",
        "    h = funcionSigmoidea(x.dot(theta.T))\n",
        "    theta = theta-(alpha/n_ejemplos)*(h-y).dot(x)\n",
        "    historial_J.append(calcularCosto(theta,x,y))\n",
        "  return theta, historial_J"
      ],
      "metadata": {
        "id": "QsZV1QQWLG1n"
      },
      "execution_count": 82,
      "outputs": []
    },
    {
      "cell_type": "code",
      "source": [
        "def hallarTheta():\n",
        "  theta = np.zeros(x.shape[1])\n",
        "  n_iteraciones = 100\n",
        "  alpha = 0.00001\n",
        "  theta, historial_J = descensoGradiente(x,y,theta,alpha,n_iteraciones)\n",
        "  return theta, historial_J"
      ],
      "metadata": {
        "id": "L-l5fldqLRh7"
      },
      "execution_count": 83,
      "outputs": []
    },
    {
      "cell_type": "code",
      "source": [
        "theta, historial_J = hallarTheta()\n",
        "print(\"Las thetas encontradas son: \",theta)\n",
        "print(\"El menor costo que se pudo determinar fue de: \",historial_J[-1])"
      ],
      "metadata": {
        "colab": {
          "base_uri": "https://localhost:8080/"
        },
        "id": "ys-wIGA0LRlw",
        "outputId": "c4937b14-eb7a-4dd3-fc91-cbb7d65e53c5"
      },
      "execution_count": 84,
      "outputs": [
        {
          "output_type": "stream",
          "name": "stdout",
          "text": [
            "Las thetas encontradas son:  [-1.33121047e-06  7.28730836e-04 -1.30765005e-04  3.83960309e-05\n",
            " -1.45626033e-05  1.17266666e-05 -2.64877819e-06  2.20978848e-06\n",
            " -4.72282193e-06 -3.40037331e-05  3.98954802e-06 -5.01589141e-06\n",
            " -6.13077843e-06  2.37612495e-07 -1.27923860e-05  4.03989017e-06\n",
            "  2.26671485e-05  1.10334626e-05  3.79106843e-06]\n",
            "El menor costo que se pudo determinar fue de:  1.8068708717803774\n"
          ]
        }
      ]
    },
    {
      "cell_type": "code",
      "source": [
        "pyplot.plot(np.arange(len(historial_J)), historial_J, lw=2)\n",
        "pyplot.xlabel('Numero de iteraciones')\n",
        "pyplot.ylabel('Costo J')"
      ],
      "metadata": {
        "colab": {
          "base_uri": "https://localhost:8080/",
          "height": 296
        },
        "id": "2kap0kaTLRpU",
        "outputId": "7c6f4287-0342-4dbe-8edf-efd48c01dc8e"
      },
      "execution_count": 85,
      "outputs": [
        {
          "output_type": "execute_result",
          "data": {
            "text/plain": [
              "Text(0, 0.5, 'Costo J')"
            ]
          },
          "metadata": {},
          "execution_count": 85
        },
        {
          "output_type": "display_data",
          "data": {
            "text/plain": [
              "<Figure size 432x288 with 1 Axes>"
            ],
            "image/png": "[encoded data removed]"
          },
          "metadata": {
            "needs_background": "light"
          }
        }
      ]
    },
    {
      "cell_type": "code",
      "source": [
        "def predecir(x):\n",
        "  x = np.array(x)\n",
        "  x = np.concatenate((np.ones(1),x))\n",
        "  y_predecir = funcionSigmoidea(np.dot(x,theta))\n",
        "  print(\"El resultado de los valores de X es: \",y_predecir*100)"
      ],
      "metadata": {
        "id": "QacGl6h1LRsz"
      },
      "execution_count": 86,
      "outputs": []
    },
    {
      "cell_type": "code",
      "source": [
        "predecir([3.9,1,1,1,0,0,0,38.0,0,0,0,0,0,1,0,1,0,0])"
      ],
      "metadata": {
        "colab": {
          "base_uri": "https://localhost:8080/"
        },
        "id": "ol7t-_BELRvf",
        "outputId": "4a11d86d-c0e6-45e8-b2d8-f0eafffec97f"
      },
      "execution_count": 87,
      "outputs": [
        {
          "output_type": "stream",
          "name": "stdout",
          "text": [
            "El resultado de los valores de X es:  50.06410483994495\n"
          ]
        }
      ]
    },
    {
      "cell_type": "code",
      "source": [
        "def funcionCosto(theta, x, y):\n",
        "    h = funcionSigmoidea(x.dot(theta.T))\n",
        "    J = (1/n_ejemplos)*np.sum(-y.dot(np.log(h))-(1-y).dot(np.log(1-h)))\n",
        "    gradiente = (1/n_ejemplos)*(h-y).dot(x)\n",
        "    return J, gradiente"
      ],
      "metadata": {
        "id": "sAVuOuv3Lcz1"
      },
      "execution_count": 88,
      "outputs": []
    },
    {
      "cell_type": "code",
      "source": [
        "def optimizarTheta():\n",
        "  opciones = {\"maxiter\":1000}\n",
        "  thetaInicial = np.zeros(x.shape[1])\n",
        "  optimizacion = optimize.minimize(funcionCosto,thetaInicial,(x,y),jac=True,method=\"TNC\",options=opciones)\n",
        "  costo = optimizacion.fun\n",
        "  theta_optimizada = optimizacion.x\n",
        "  return theta_optimizada, costo"
      ],
      "metadata": {
        "id": "0909rEQyLc3P"
      },
      "execution_count": 89,
      "outputs": []
    },
    {
      "cell_type": "code",
      "source": [
        "theta_funcionCosto, costo = optimizarTheta()\n",
        "print(theta_funcionCosto)"
      ],
      "metadata": {
        "colab": {
          "base_uri": "https://localhost:8080/"
        },
        "id": "7BgYu7U5Lc6m",
        "outputId": "b517e7df-706b-46ea-8839-2a6a83ff6a37"
      },
      "execution_count": 90,
      "outputs": [
        {
          "output_type": "stream",
          "name": "stdout",
          "text": [
            "[-1.39491919e+00  2.00606127e-04 -2.92207968e-01  1.79739903e+00\n",
            " -9.16461105e-01 -4.29682483e-03 -8.76969918e-02  5.79601209e-02\n",
            " -3.22891557e-01 -1.16746788e-02  2.66052774e-01 -1.74312596e-02\n",
            " -1.65215847e-01  1.84092965e-01 -6.15710931e-01  2.29695835e-01\n",
            "  4.85015168e-01  4.89897069e-01  6.00626472e-01]\n"
          ]
        }
      ]
    },
    {
      "cell_type": "code",
      "source": [
        "def predecirThetaOptimizada(x):\n",
        "  x = np.array(x)\n",
        "  x = np.concatenate((np.ones(1),x))\n",
        "  y_predecir = funcionSigmoidea(np.dot(x,theta_funcionCosto))\n",
        "  print(\"El resultado de los valores de X es: \",y_predecir*100)"
      ],
      "metadata": {
        "id": "PgBEQBwLLc9U"
      },
      "execution_count": 91,
      "outputs": []
    },
    {
      "cell_type": "code",
      "source": [
        "predecirThetaOptimizada([3.9,1,1,1,0,0,0,38.0,0,0,0,0,0,1,0,1,0,0])"
      ],
      "metadata": {
        "colab": {
          "base_uri": "https://localhost:8080/"
        },
        "id": "N7hkqk42LdAF",
        "outputId": "8013f65d-053c-4d6a-866d-630c305fbd9c"
      },
      "execution_count": 92,
      "outputs": [
        {
          "output_type": "stream",
          "name": "stdout",
          "text": [
            "El resultado de los valores de X es:  0.0001839560923518661\n"
          ]
        }
      ]
    },
    {
      "cell_type": "code",
      "source": [
        "def plotDecisionBoundary(plotData, theta, x, y):\n",
        "    theta = np.array(theta)\n",
        "    # Graficar los datos (recordar que la primera columna en x es la intercepción)\n",
        "    plotData(x[:, 0:18], y)\n",
        "    if x.shape[1] <= 18:\n",
        "        # Solo se requieren 2 puntos para definir una linea, para lo cual se eligen dos puntos finales\n",
        "        plot_x = np.array([np.min(x[:, 1]) - 2, np.max(x[:, 1]) + 2])\n",
        "        # Calcular la línea límite de decisión\n",
        "        plot_y = (-1. / theta[2]) * (theta[1] * plot_x + theta[0])\n",
        "        print(plot_x)\n",
        "        print(plot_y)\n",
        "        # Graficar y ajustar los ejes para una mejor visualización\n",
        "        pyplot.plot(plot_x, plot_y)\n",
        "        # Leyenda, especifica para el ejercicio\n",
        "        pyplot.legend(['Positivo', 'Negativo', 'Limite de decisión'])\n",
        "        pyplot.xlim([30, 100])\n",
        "        pyplot.ylim([30, 100])\n",
        "    else:\n",
        "        # Rango de la grilla\n",
        "        u = np.linspace(-1, 1.5, 50)\n",
        "        v = np.linspace(-1, 1.5, 50)\n",
        "        z = np.zeros((u.size, v.size))\n",
        "        # Evalua z = theta*x sobre la grilla\n",
        "        for i, ui in enumerate(u):\n",
        "            for j, vj in enumerate(v):\n",
        "                z[i, j] = np.dot(mapFeature(ui, vj), theta)\n",
        "        z = z.T \n",
        "        # print(z)\n",
        "        # Plot z = 0\n",
        "        pyplot.contour(u, v, z, levels=[0], linewidths=2, colors='g')\n",
        "        pyplot.contourf(u, v, z, levels=[np.min(z), 0, np.max(z)], cmap='Greens', alpha=0.4)"
      ],
      "metadata": {
        "id": "o-HuVWisVWS8"
      },
      "execution_count": 93,
      "outputs": []
    },
    {
      "cell_type": "code",
      "source": [
        "# Graficar limites\n",
        "#plotDecisionBoundary(plotData, theta, x, y)"
      ],
      "metadata": {
        "id": "wvab5t_0VyTn"
      },
      "execution_count": 94,
      "outputs": []
    },
    {
      "cell_type": "code",
      "source": [
        "def metodoNormal(x, y):\n",
        "  x = np.float64(x)\n",
        "  y = np.float64(y)\n",
        "  theta = np.dot(np.dot(np.linalg.inv(np.dot(x.T,x)),x.T),y)\n",
        "  return theta"
      ],
      "metadata": {
        "id": "ID_4P2F9LnMM"
      },
      "execution_count": 95,
      "outputs": []
    },
    {
      "cell_type": "code",
      "source": [
        "theta = metodoNormal(x,y)\n",
        "print(\"Las thetas encontradas son: \",theta)\n",
        "x_predecir = [1,3.9,1,1,1,0,0,0,38.0,0,0,0,0,0,1,0,1,0,0]\n",
        "x_predecir = np.array(x_predecir)\n",
        "y_predecir = funcionSigmoidea(np.dot(x_predecir,theta))\n",
        "print(\"El resultado de los valores de X es: \",y_predecir*100)"
      ],
      "metadata": {
        "colab": {
          "base_uri": "https://localhost:8080/"
        },
        "id": "2IU4mrcaLnQB",
        "outputId": "e992fcb9-a03b-4357-b0b1-a271db1e8bc0"
      },
      "execution_count": 96,
      "outputs": [
        {
          "output_type": "stream",
          "name": "stdout",
          "text": [
            "Las thetas encontradas son:  [ 2.07644446e-01  1.62477162e-05 -1.67964914e-02  1.52020044e-01\n",
            " -1.06227756e-01 -3.71444717e-03 -1.35887817e-02  5.01183041e-03\n",
            " -4.04768647e-02 -8.65726074e-04  1.41772309e-02  2.03167281e-03\n",
            " -1.04706034e-02  1.19051505e-02 -5.40043156e-02  1.04997645e-02\n",
            "  6.43206068e-02  4.54651012e-02  5.66176119e-02]\n",
            "El resultado de los valores de X es:  21.566652024545316\n"
          ]
        }
      ]
    }
  ]
}